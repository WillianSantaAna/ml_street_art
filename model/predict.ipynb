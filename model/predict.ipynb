{
 "cells": [
  {
   "cell_type": "code",
   "execution_count": 1,
   "metadata": {},
   "outputs": [],
   "source": [
    "import tensorflow as tf\n",
    "from tensorflow.keras.preprocessing.image import ImageDataGenerator"
   ]
  },
  {
   "cell_type": "code",
   "execution_count": 2,
   "metadata": {},
   "outputs": [],
   "source": [
    "test_dir = \"./dataset/test\""
   ]
  },
  {
   "cell_type": "code",
   "execution_count": 3,
   "metadata": {},
   "outputs": [
    {
     "name": "stderr",
     "output_type": "stream",
     "text": [
      "2022-06-05 22:09:56.958791: E tensorflow/stream_executor/cuda/cuda_driver.cc:271] failed call to cuInit: CUDA_ERROR_NO_DEVICE: no CUDA-capable device is detected\n",
      "2022-06-05 22:09:56.958908: I tensorflow/stream_executor/cuda/cuda_diagnostics.cc:156] kernel driver does not appear to be running on this host (arch): /proc/driver/nvidia/version does not exist\n",
      "2022-06-05 22:09:56.959816: I tensorflow/core/platform/cpu_feature_guard.cc:151] This TensorFlow binary is optimized with oneAPI Deep Neural Network Library (oneDNN) to use the following CPU instructions in performance-critical operations:  AVX2 FMA\n",
      "To enable them in other operations, rebuild TensorFlow with the appropriate compiler flags.\n"
     ]
    },
    {
     "name": "stdout",
     "output_type": "stream",
     "text": [
      "Found 6 images belonging to 3 classes.\n",
      "6\n",
      "tf.Tensor(\n",
      "[[0.21194158 0.21194161 0.5761168 ]\n",
      " [0.21194524 0.5761121  0.21194263]\n",
      " [0.50946254 0.26663935 0.22389811]\n",
      " [0.21196638 0.5760644  0.21196918]\n",
      " [0.57523793 0.21256463 0.21219742]\n",
      " [0.2119736  0.21195984 0.5760666 ]], shape=(6, 3), dtype=float32)\n"
     ]
    }
   ],
   "source": [
    "with open(f'model_export/v1/street_art_model.json', 'r') as json_file:\n",
    "    model = tf.keras.models.model_from_json(json_file.read())\n",
    "    model.load_weights(f'model_export/v1/street_art_weights.h5')\n",
    "\n",
    "    test_datagen = ImageDataGenerator(rescale=1./255)\n",
    "\n",
    "    test_generator = test_datagen.flow_from_directory(\n",
    "            test_dir,\n",
    "            target_size=(150, 150),\n",
    "            class_mode='categorical',\n",
    "            batch_size=1)\n",
    "\n",
    "    filenames = test_generator.filenames\n",
    "    nb_samples = len(filenames)\n",
    "\n",
    "    print(nb_samples)\n",
    "\n",
    "    logits = model.predict(test_generator,steps=nb_samples)\n",
    "    prediction = tf.nn.softmax(logits)\n",
    "    print(prediction)"
   ]
  },
  {
   "cell_type": "code",
   "execution_count": 4,
   "metadata": {},
   "outputs": [
    {
     "name": "stdout",
     "output_type": "stream",
     "text": [
      "WARNING:tensorflow:Compiled the loaded model, but the compiled metrics have yet to be built. `model.compile_metrics` will be empty until you train or evaluate the model.\n"
     ]
    }
   ],
   "source": [
    "# tf.keras.models.save_model(model, 'street_art_model.h5')"
   ]
  }
 ],
 "metadata": {
  "interpreter": {
   "hash": "2dc06daf51b090f8f304b0729324b6d618dfb51580b4f23e41d4448bbc21de62"
  },
  "kernelspec": {
   "display_name": "Python 3.10.2 ('ml_lab')",
   "language": "python",
   "name": "python3"
  },
  "language_info": {
   "codemirror_mode": {
    "name": "ipython",
    "version": 3
   },
   "file_extension": ".py",
   "mimetype": "text/x-python",
   "name": "python",
   "nbconvert_exporter": "python",
   "pygments_lexer": "ipython3",
   "version": "3.10.4"
  },
  "orig_nbformat": 4
 },
 "nbformat": 4,
 "nbformat_minor": 2
}
