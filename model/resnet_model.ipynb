{
  "nbformat": 4,
  "nbformat_minor": 0,
  "metadata": {
    "colab": {
      "name": "resnet_model",
      "provenance": [],
      "collapsed_sections": []
    },
    "kernelspec": {
      "name": "python3",
      "display_name": "Python 3"
    },
    "language_info": {
      "name": "python"
    }
  },
  "cells": [
    {
      "cell_type": "code",
      "execution_count": null,
      "metadata": {
        "id": "4oUrLFZGKlh3"
      },
      "outputs": [],
      "source": [
        "import os\n",
        "import random\n",
        "import numpy as np\n",
        "import matplotlib.pyplot as plt\n",
        "import matplotlib.image as mpimg\n",
        "import tensorflow as tf\n",
        "from tensorflow.keras import layers\n",
        "from tensorflow.keras import Model\n",
        "from tensorflow.keras.optimizers import RMSprop, Adam\n",
        "from tensorflow.keras.preprocessing.image import ImageDataGenerator, array_to_img, img_to_array, load_img\n",
        "# import the models for further classification experiments\n",
        "from tensorflow.keras.applications import (\n",
        "        vgg16,\n",
        "        resnet50,\n",
        "        mobilenet,\n",
        "        inception_v3\n",
        "    )\n"
      ]
    },
    {
      "cell_type": "code",
      "source": [
        "from google.colab import drive\n",
        "drive.mount('/content/drive')"
      ],
      "metadata": {
        "colab": {
          "base_uri": "https://localhost:8080/"
        },
        "id": "9gQZutyiPX7Y",
        "outputId": "9f966a17-ffa4-4455-f9c8-15dd16f31ea1"
      },
      "execution_count": null,
      "outputs": [
        {
          "output_type": "stream",
          "name": "stdout",
          "text": [
            "Drive already mounted at /content/drive; to attempt to forcibly remount, call drive.mount(\"/content/drive\", force_remount=True).\n"
          ]
        }
      ]
    },
    {
      "cell_type": "code",
      "source": [
        "np.random.seed(1)\n",
        "tf.random.set_seed(2)\n",
        "# basic paths\n",
        "train_dir = \"/content/drive/MyDrive/Computer Science/6th semester/Projec Factory/model/dataset_v5/train\"\n",
        "test_dir = \"/content/drive/MyDrive/Computer Science/6th semester/Projec Factory/model/dataset_v5/test\"\n",
        "val_dir = \"/content/drive/MyDrive/Computer Science/6th semester/Projec Factory/model/dataset_v5/validation\"\n",
        "\n",
        "class_names = os.listdir(train_dir)\n",
        "num_classes = len(class_names)\n",
        "\n",
        "def get_dir_filenames(base_dir, name):\n",
        "    dir = os.path.join(base_dir, name)\n",
        "\n",
        "    return {\"dir\": dir, \"file_names\": os.listdir(dir)}\n",
        "\n",
        "\n",
        "train = {name: get_dir_filenames(train_dir, name) for name in class_names}\n",
        "val = {name: get_dir_filenames(val_dir, name) for name in class_names}"
      ],
      "metadata": {
        "id": "xAwngacNPbC4"
      },
      "execution_count": null,
      "outputs": []
    },
    {
      "cell_type": "code",
      "source": [
        "train_len = sum(map(lambda x: len(x['file_names']), train.values()))\n",
        "val_len = sum(map(lambda x: len(x['file_names']), val.values()))\n",
        "\n",
        "print(f\"Total training images: {train_len}\")\n",
        "print(f\"Total validation images: {val_len}\")"
      ],
      "metadata": {
        "colab": {
          "base_uri": "https://localhost:8080/"
        },
        "id": "sYW4xmGSPdUv",
        "outputId": "c230bb81-2b6f-4bd2-a370-26802d1cae72"
      },
      "execution_count": null,
      "outputs": [
        {
          "output_type": "stream",
          "name": "stdout",
          "text": [
            "Total training images: 89\n",
            "Total validation images: 16\n"
          ]
        }
      ]
    },
    {
      "cell_type": "code",
      "source": [
        "# init the models\n",
        "# vgg_model = vgg16.VGG16(weights='imagenet')\n",
        "# inception_model = inception_v3.InceptionV3(weights='imagenet')\n",
        "# resnet_model = resnet50.ResNet50(weights='imagenet')\n",
        "# mobilenet_model = mobilenet.MobileNet(weights='imagenet')"
      ],
      "metadata": {
        "id": "BCJiZLcWNfCr"
      },
      "execution_count": null,
      "outputs": []
    },
    {
      "cell_type": "code",
      "source": [
        "# img_input = layers.Input(shape=(150, 150, 3))\n",
        "\n",
        "# define a new model with random weights and 10 classes\n",
        "# new_input = Input(shape=(640, 480, 3))\n",
        "# model = VGG16(weights=None, input_tensor=new_input, classes=10)\n",
        "\n",
        "model = resnet50.ResNet50(include_top=False, input_shape=(150, 150, 3), weights='imagenet')\n",
        "# add new classifier layers\n",
        "x = layers.Flatten()(model.layers[-1].output)\n",
        "x = layers.Dense(512, activation='relu')(x)\n",
        "output = layers.Dense(num_classes, activation='softmax')(x)\n",
        "# define new model\n",
        "model = Model(inputs=model.inputs, outputs=output)"
      ],
      "metadata": {
        "id": "PCaI1uDQO0Sa"
      },
      "execution_count": null,
      "outputs": []
    },
    {
      "cell_type": "code",
      "source": [
        "model.compile(loss='categorical_crossentropy',\n",
        "    optimizer=Adam(learning_rate=0.001),\n",
        "    metrics=['acc'])"
      ],
      "metadata": {
        "id": "wVCLbcXaWiwB"
      },
      "execution_count": null,
      "outputs": []
    },
    {
      "cell_type": "code",
      "source": [
        "# All images will be rescaled by 1./255\n",
        "train_datagen = ImageDataGenerator(\n",
        "    rescale=1./255,\n",
        "    rotation_range=40,\n",
        "    zoom_range=0.2,\n",
        "    horizontal_flip=True,\n",
        ")\n",
        "train_datagen = ImageDataGenerator(rescale=1./255)\n",
        "val_datagen = ImageDataGenerator(rescale=1./255)\n",
        "\n",
        "# Flow training images in batches of 20 using train_datagen generator\n",
        "train_generator = train_datagen.flow_from_directory(\n",
        "        train_dir,  # This is the source directory for training images\n",
        "        target_size=(150, 150),  # All images will be resized to 150x150\n",
        "        batch_size=6,\n",
        "        class_mode='categorical',\n",
        "        subset='training')\n",
        "\n",
        "\n",
        "validation_generator = val_datagen.flow_from_directory(\n",
        "        val_dir,\n",
        "        target_size=(150, 150),\n",
        "        batch_size=2,\n",
        "        class_mode='categorical')"
      ],
      "metadata": {
        "colab": {
          "base_uri": "https://localhost:8080/"
        },
        "id": "t1eUs6PsQnGC",
        "outputId": "20090b95-4183-4a95-93cf-a1ad3ca4f65d"
      },
      "execution_count": null,
      "outputs": [
        {
          "output_type": "stream",
          "name": "stdout",
          "text": [
            "Found 89 images belonging to 6 classes.\n",
            "Found 16 images belonging to 6 classes.\n"
          ]
        }
      ]
    },
    {
      "cell_type": "code",
      "source": [
        "# fit model on the augmented dataset\n",
        "history = model.fit(train_generator, epochs=20, validation_data=validation_generator)"
      ],
      "metadata": {
        "colab": {
          "base_uri": "https://localhost:8080/"
        },
        "id": "yFb5O2NjQpRs",
        "outputId": "7ee593e0-6435-45d7-d318-2dc2c68d6576"
      },
      "execution_count": null,
      "outputs": [
        {
          "output_type": "stream",
          "name": "stdout",
          "text": [
            "Epoch 1/20\n",
            "15/15 [==============================] - 57s 3s/step - loss: 17.2831 - acc: 0.2921 - val_loss: 565713.7500 - val_acc: 0.2500\n",
            "Epoch 2/20\n",
            "15/15 [==============================] - 49s 3s/step - loss: 8.3966 - acc: 0.6404 - val_loss: 146597344.0000 - val_acc: 0.2500\n",
            "Epoch 3/20\n",
            "15/15 [==============================] - 45s 3s/step - loss: 4.0942 - acc: 0.6517 - val_loss: 57.3231 - val_acc: 0.1250\n",
            "Epoch 4/20\n",
            "15/15 [==============================] - 45s 3s/step - loss: 3.1652 - acc: 0.7416 - val_loss: 22.5141 - val_acc: 0.2500\n",
            "Epoch 5/20\n",
            "15/15 [==============================] - 46s 3s/step - loss: 2.0864 - acc: 0.7753 - val_loss: 67.6028 - val_acc: 0.2500\n",
            "Epoch 6/20\n",
            "15/15 [==============================] - 45s 3s/step - loss: 0.6986 - acc: 0.8539 - val_loss: 34.0871 - val_acc: 0.1250\n",
            "Epoch 7/20\n",
            "15/15 [==============================] - 44s 3s/step - loss: 0.9743 - acc: 0.8764 - val_loss: 6.3800 - val_acc: 0.1250\n",
            "Epoch 8/20\n",
            "15/15 [==============================] - 46s 3s/step - loss: 1.0435 - acc: 0.8764 - val_loss: 101.2166 - val_acc: 0.1875\n",
            "Epoch 9/20\n",
            "15/15 [==============================] - 44s 3s/step - loss: 0.9150 - acc: 0.9213 - val_loss: 18.5160 - val_acc: 0.2500\n",
            "Epoch 10/20\n",
            "15/15 [==============================] - 44s 3s/step - loss: 0.4285 - acc: 0.9551 - val_loss: 8.9018 - val_acc: 0.1250\n",
            "Epoch 11/20\n",
            "15/15 [==============================] - 46s 3s/step - loss: 0.7184 - acc: 0.9213 - val_loss: 6.4359 - val_acc: 0.1250\n",
            "Epoch 12/20\n",
            "15/15 [==============================] - 44s 3s/step - loss: 2.5479 - acc: 0.7640 - val_loss: 12.2268 - val_acc: 0.1250\n",
            "Epoch 13/20\n",
            "15/15 [==============================] - 44s 3s/step - loss: 1.4111 - acc: 0.7303 - val_loss: 58.2090 - val_acc: 0.1250\n",
            "Epoch 14/20\n",
            "15/15 [==============================] - 46s 3s/step - loss: 1.5935 - acc: 0.7978 - val_loss: 41.0078 - val_acc: 0.1250\n",
            "Epoch 15/20\n",
            "15/15 [==============================] - 45s 3s/step - loss: 0.5900 - acc: 0.8652 - val_loss: 32.8266 - val_acc: 0.1250\n",
            "Epoch 16/20\n",
            "15/15 [==============================] - 45s 3s/step - loss: 0.6469 - acc: 0.8539 - val_loss: 11.2580 - val_acc: 0.1250\n",
            "Epoch 17/20\n",
            "15/15 [==============================] - 47s 3s/step - loss: 0.6907 - acc: 0.8876 - val_loss: 7.5619 - val_acc: 0.1250\n",
            "Epoch 18/20\n",
            "15/15 [==============================] - 45s 3s/step - loss: 0.5150 - acc: 0.8989 - val_loss: 15.5208 - val_acc: 0.1250\n",
            "Epoch 19/20\n",
            "15/15 [==============================] - 45s 3s/step - loss: 0.2642 - acc: 0.9551 - val_loss: 12.8782 - val_acc: 0.1250\n",
            "Epoch 20/20\n",
            "15/15 [==============================] - 46s 3s/step - loss: 0.2499 - acc: 0.9438 - val_loss: 4.0858 - val_acc: 0.1250\n"
          ]
        }
      ]
    },
    {
      "cell_type": "code",
      "source": [
        "# Retrieve a list of accuracy results on training and validation data\n",
        "# sets for each training epoch\n",
        "acc = history.history['acc']\n",
        "val_acc = history.history['val_acc']\n",
        "\n",
        "# Retrieve a list of list results on training data\n",
        "# sets for each training epoch\n",
        "loss = history.history['loss']\n",
        "val_loss = history.history['val_loss']\n",
        "\n",
        "# Get number of epochs\n",
        "epochs = range(len(acc))\n",
        "\n",
        "# Plot training accuracy per epoch\n",
        "plt.plot(epochs, acc)\n",
        "plt.plot(epochs, val_acc)\n",
        "plt.title('Training and validation accuracy')\n",
        "\n",
        "plt.figure()\n",
        "\n",
        "# Plot training loss per epoch\n",
        "plt.plot(epochs, loss)\n",
        "plt.plot(epochs, val_loss)\n",
        "plt.title('Training and validation loss')"
      ],
      "metadata": {
        "id": "xVNJF-IaQsBV",
        "colab": {
          "base_uri": "https://localhost:8080/",
          "height": 563
        },
        "outputId": "d6e9b00f-ea95-4dba-a85e-5de9e219143f"
      },
      "execution_count": null,
      "outputs": [
        {
          "output_type": "execute_result",
          "data": {
            "text/plain": [
              "Text(0.5, 1.0, 'Training and validation loss')"
            ]
          },
          "metadata": {},
          "execution_count": 10
        },
        {
          "output_type": "display_data",
          "data": {
            "text/plain": [
              "<Figure size 432x288 with 1 Axes>"
            ],
            "image/png": "[encoded data removed]"
          },
          "metadata": {
            "needs_background": "light"
          }
        },
        {
          "output_type": "display_data",
          "data": {
            "text/plain": [
              "<Figure size 432x288 with 1 Axes>"
            ],
            "image/png": "[encoded data removed]"
          },
          "metadata": {
            "needs_background": "light"
          }
        }
      ]
    }
  ]
}