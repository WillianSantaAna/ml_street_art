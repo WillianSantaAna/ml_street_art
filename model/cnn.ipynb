{
 "cells": [
  {
   "cell_type": "code",
   "execution_count": 1,
   "metadata": {},
   "outputs": [],
   "source": [
    "import os\n",
    "import random\n",
    "import numpy as np\n",
    "import matplotlib.pyplot as plt\n",
    "import matplotlib.image as mpimg\n",
    "import tensorflow as tf\n",
    "from tensorflow.keras import layers\n",
    "from tensorflow.keras import Model\n",
    "from tensorflow.keras.optimizers import RMSprop, Adam\n",
    "from tensorflow.keras.preprocessing.image import ImageDataGenerator, array_to_img, img_to_array, load_img"
   ]
  },
  {
   "cell_type": "code",
   "execution_count": 2,
   "metadata": {},
   "outputs": [],
   "source": [
    "np.random.seed(1)\n",
    "tf.random.set_seed(2)\n",
    "# basic paths\n",
    "train_dir = \"./dataset_v7/train\"\n",
    "test_dir = \"./dataset_v7/test\"\n",
    "val_dir = \"./dataset_v7/validation\"\n",
    "\n",
    "class_names = os.listdir(train_dir)\n",
    "num_classes = len(class_names)\n",
    "\n",
    "def get_dir_filenames(base_dir, name):\n",
    "    dir = os.path.join(base_dir, name)\n",
    "\n",
    "    return {\"dir\": dir, \"file_names\": os.listdir(dir)}\n",
    "\n",
    "\n",
    "train = {name: get_dir_filenames(train_dir, name) for name in class_names}\n",
    "val = {name: get_dir_filenames(val_dir, name) for name in class_names}"
   ]
  },
  {
   "cell_type": "code",
   "execution_count": 3,
   "metadata": {},
   "outputs": [
    {
     "name": "stdout",
     "output_type": "stream",
     "text": [
      "Total training images: 80\n",
      "Total validation images: 14\n"
     ]
    }
   ],
   "source": [
    "train_len = sum(map(lambda x: len(x['file_names']), train.values()))\n",
    "val_len = sum(map(lambda x: len(x['file_names']), val.values()))\n",
    "\n",
    "print(f\"Total training images: {train_len}\")\n",
    "print(f\"Total validation images: {val_len}\")"
   ]
  },
  {
   "cell_type": "code",
   "execution_count": 4,
   "metadata": {},
   "outputs": [
    {
     "name": "stdout",
     "output_type": "stream",
     "text": [
      "Model: \"model\"\n",
      "_________________________________________________________________\n",
      " Layer (type)                Output Shape              Param #   \n",
      "=================================================================\n",
      " input_1 (InputLayer)        [(None, 150, 150, 3)]     0         \n",
      "                                                                 \n",
      " conv2d (Conv2D)             (None, 148, 148, 16)      448       \n",
      "                                                                 \n",
      " max_pooling2d (MaxPooling2D  (None, 74, 74, 16)       0         \n",
      " )                                                               \n",
      "                                                                 \n",
      " conv2d_1 (Conv2D)           (None, 72, 72, 32)        4640      \n",
      "                                                                 \n",
      " max_pooling2d_1 (MaxPooling  (None, 36, 36, 32)       0         \n",
      " 2D)                                                             \n",
      "                                                                 \n",
      " conv2d_2 (Conv2D)           (None, 34, 34, 64)        18496     \n",
      "                                                                 \n",
      " max_pooling2d_2 (MaxPooling  (None, 17, 17, 64)       0         \n",
      " 2D)                                                             \n",
      "                                                                 \n",
      " flatten (Flatten)           (None, 18496)             0         \n",
      "                                                                 \n",
      " dropout (Dropout)           (None, 18496)             0         \n",
      "                                                                 \n",
      " dense (Dense)               (None, 128)               2367616   \n"
     ]
    },
    {
     "name": "stderr",
     "output_type": "stream",
     "text": [
      "2022-06-08 15:28:17.748572: E tensorflow/stream_executor/cuda/cuda_driver.cc:271] failed call to cuInit: CUDA_ERROR_NO_DEVICE: no CUDA-capable device is detected\n",
      "2022-06-08 15:28:17.748637: I tensorflow/stream_executor/cuda/cuda_diagnostics.cc:156] kernel driver does not appear to be running on this host (arch): /proc/driver/nvidia/version does not exist\n",
      "2022-06-08 15:28:17.750111: I tensorflow/core/platform/cpu_feature_guard.cc:151] This TensorFlow binary is optimized with oneAPI Deep Neural Network Library (oneDNN) to use the following CPU instructions in performance-critical operations:  AVX2 FMA\n",
      "To enable them in other operations, rebuild TensorFlow with the appropriate compiler flags.\n"
     ]
    },
    {
     "name": "stdout",
     "output_type": "stream",
     "text": [
      "                                                                 \n",
      " dense_1 (Dense)             (None, 5)                 645       \n",
      "                                                                 \n",
      "=================================================================\n",
      "Total params: 2,391,845\n",
      "Trainable params: 2,391,845\n",
      "Non-trainable params: 0\n",
      "_________________________________________________________________\n"
     ]
    }
   ],
   "source": [
    "img_input = layers.Input(shape=(150, 150, 3))\n",
    "\n",
    "x = layers.Conv2D(16, 3, activation='relu')(img_input)\n",
    "x = layers.MaxPooling2D(2)(x)\n",
    "\n",
    "x = layers.Conv2D(32, 3, activation='relu')(x)\n",
    "x = layers.MaxPooling2D(2)(x)\n",
    "\n",
    "x = layers.Conv2D(64, 3, activation='relu')(x)\n",
    "x = layers.MaxPooling2D(2)(x)\n",
    "\n",
    "x = layers.Flatten()(x)\n",
    "\n",
    "x = layers.Dropout(0.2)(x)\n",
    "\n",
    "x = layers.Dense(128, activation='relu')(x)\n",
    "\n",
    "output = layers.Dense(num_classes, activation='softmax')(x)\n",
    "\n",
    "model = Model(img_input, output)\n",
    "\n",
    "model.summary()\n",
    "\n",
    "model.compile(loss='categorical_crossentropy',\n",
    "            optimizer=RMSprop(learning_rate=0.001),\n",
    "            metrics=['acc'])"
   ]
  },
  {
   "cell_type": "code",
   "execution_count": 5,
   "metadata": {},
   "outputs": [
    {
     "name": "stdout",
     "output_type": "stream",
     "text": [
      "Found 80 images belonging to 5 classes.\n",
      "Found 14 images belonging to 5 classes.\n"
     ]
    }
   ],
   "source": [
    "# All images will be rescaled by 1./255\n",
    "train_datagen = ImageDataGenerator(\n",
    "    rescale=1./255,\n",
    "    rotation_range=45,\n",
    "    zoom_range=0.4,\n",
    "    horizontal_flip=True,\n",
    ")\n",
    "# train_datagen = ImageDataGenerator(rescale=1./255)\n",
    "val_datagen = ImageDataGenerator(rescale=1./255)\n",
    "\n",
    "# Flow training images in batches of 20 using train_datagen generator\n",
    "train_generator = train_datagen.flow_from_directory(\n",
    "        train_dir,  # This is the source directory for training images\n",
    "        target_size=(150, 150),  # All images will be resized to 150x150\n",
    "        batch_size=6,\n",
    "        class_mode='categorical',\n",
    "        subset='training')\n",
    "\n",
    "\n",
    "validation_generator = val_datagen.flow_from_directory(\n",
    "        val_dir,\n",
    "        target_size=(150, 150),\n",
    "        batch_size=2,\n",
    "        class_mode='categorical')"
   ]
  },
  {
   "cell_type": "code",
   "execution_count": 6,
   "metadata": {},
   "outputs": [
    {
     "name": "stdout",
     "output_type": "stream",
     "text": [
      "Epoch 1/20\n",
      "14/14 [==============================] - 7s 383ms/step - loss: 1.8044 - acc: 0.1750 - val_loss: 1.5971 - val_acc: 0.2857\n",
      "Epoch 2/20\n",
      "14/14 [==============================] - 5s 376ms/step - loss: 1.5628 - acc: 0.3375 - val_loss: 1.4468 - val_acc: 0.3571\n",
      "Epoch 3/20\n",
      "14/14 [==============================] - 7s 495ms/step - loss: 1.4803 - acc: 0.3625 - val_loss: 2.0889 - val_acc: 0.2143\n",
      "Epoch 4/20\n",
      "14/14 [==============================] - 5s 373ms/step - loss: 1.5319 - acc: 0.2625 - val_loss: 1.4779 - val_acc: 0.4286\n",
      "Epoch 5/20\n",
      "14/14 [==============================] - 5s 383ms/step - loss: 1.3485 - acc: 0.3750 - val_loss: 1.2554 - val_acc: 0.5714\n",
      "Epoch 6/20\n",
      "14/14 [==============================] - 6s 433ms/step - loss: 1.3123 - acc: 0.4250 - val_loss: 1.5144 - val_acc: 0.1429\n",
      "Epoch 7/20\n",
      "14/14 [==============================] - 6s 458ms/step - loss: 1.2361 - acc: 0.5250 - val_loss: 1.1510 - val_acc: 0.5714\n",
      "Epoch 8/20\n",
      "14/14 [==============================] - 5s 355ms/step - loss: 1.3774 - acc: 0.4375 - val_loss: 0.9893 - val_acc: 0.7143\n",
      "Epoch 9/20\n",
      "14/14 [==============================] - 5s 352ms/step - loss: 1.0815 - acc: 0.5750 - val_loss: 1.8272 - val_acc: 0.2143\n",
      "Epoch 10/20\n",
      "14/14 [==============================] - 5s 341ms/step - loss: 1.1943 - acc: 0.5000 - val_loss: 0.8875 - val_acc: 0.7143\n",
      "Epoch 11/20\n",
      "14/14 [==============================] - 5s 319ms/step - loss: 1.0184 - acc: 0.6125 - val_loss: 0.8827 - val_acc: 0.6429\n",
      "Epoch 12/20\n",
      "14/14 [==============================] - 5s 359ms/step - loss: 1.2309 - acc: 0.5000 - val_loss: 0.8796 - val_acc: 0.7143\n",
      "Epoch 13/20\n",
      "14/14 [==============================] - 6s 386ms/step - loss: 0.9381 - acc: 0.6875 - val_loss: 0.8123 - val_acc: 0.6429\n",
      "Epoch 14/20\n",
      "14/14 [==============================] - 5s 330ms/step - loss: 0.9492 - acc: 0.6125 - val_loss: 1.4749 - val_acc: 0.3571\n",
      "Epoch 15/20\n",
      "14/14 [==============================] - 5s 329ms/step - loss: 0.9526 - acc: 0.6250 - val_loss: 0.6833 - val_acc: 0.6429\n",
      "Epoch 16/20\n",
      "14/14 [==============================] - 6s 447ms/step - loss: 0.8566 - acc: 0.6500 - val_loss: 0.7680 - val_acc: 0.7857\n",
      "Epoch 17/20\n",
      "14/14 [==============================] - 7s 470ms/step - loss: 0.9655 - acc: 0.5625 - val_loss: 1.0189 - val_acc: 0.4286\n",
      "Epoch 18/20\n",
      "14/14 [==============================] - 6s 415ms/step - loss: 0.9796 - acc: 0.6125 - val_loss: 0.8167 - val_acc: 0.6429\n",
      "Epoch 19/20\n",
      "14/14 [==============================] - 5s 373ms/step - loss: 0.7437 - acc: 0.7125 - val_loss: 0.8763 - val_acc: 0.7143\n",
      "Epoch 20/20\n",
      "14/14 [==============================] - 6s 388ms/step - loss: 0.6890 - acc: 0.7500 - val_loss: 0.7539 - val_acc: 0.5714\n"
     ]
    }
   ],
   "source": [
    "history = model.fit(\n",
    "      train_generator,\n",
    "      epochs=20,\n",
    "      validation_data=validation_generator,)"
   ]
  },
  {
   "cell_type": "code",
   "execution_count": 7,
   "metadata": {},
   "outputs": [
    {
     "data": {
      "text/plain": [
       "Text(0.5, 1.0, 'Training and validation loss')"
      ]
     },
     "execution_count": 7,
     "metadata": {},
     "output_type": "execute_result"
    },
    {
     "data": {
      "image/png": "[encoded data removed]",
      "text/plain": [
       "<Figure size 432x288 with 1 Axes>"
      ]
     },
     "metadata": {
      "needs_background": "light"
     },
     "output_type": "display_data"
    },
    {
     "data": {
      "image/png": "[encoded data removed]",
      "text/plain": [
       "<Figure size 432x288 with 1 Axes>"
      ]
     },
     "metadata": {
      "needs_background": "light"
     },
     "output_type": "display_data"
    }
   ],
   "source": [
    "# Retrieve a list of accuracy results on training and validation data\n",
    "# sets for each training epoch\n",
    "acc = history.history['acc']\n",
    "val_acc = history.history['val_acc']\n",
    "\n",
    "# Retrieve a list of list results on training data\n",
    "# sets for each training epoch\n",
    "loss = history.history['loss']\n",
    "val_loss = history.history['val_loss']\n",
    "\n",
    "# Get number of epochs\n",
    "epochs = range(len(acc))\n",
    "\n",
    "# Plot training accuracy per epoch\n",
    "plt.plot(epochs, acc)\n",
    "plt.plot(epochs, val_acc)\n",
    "plt.title('Training and validation accuracy')\n",
    "\n",
    "plt.figure()\n",
    "\n",
    "# Plot training loss per epoch\n",
    "plt.plot(epochs, loss)\n",
    "plt.plot(epochs, val_loss)\n",
    "plt.title('Training and validation loss')"
   ]
  },
  {
   "cell_type": "code",
   "execution_count": 8,
   "metadata": {},
   "outputs": [],
   "source": [
    "tf.keras.models.save_model(model, 'sta_cnn.h5')"
   ]
  },
  {
   "cell_type": "code",
   "execution_count": 9,
   "metadata": {},
   "outputs": [
    {
     "name": "stdout",
     "output_type": "stream",
     "text": [
      "Found 13 images belonging to 5 classes.\n",
      "tf.Tensor(\n",
      "[[0.15302518 0.16050021 0.15194331 0.1515488  0.38298255]\n",
      " [0.15135807 0.38921034 0.1513123  0.15108402 0.15703516]\n",
      " [0.1819236  0.19866697 0.22113653 0.16540065 0.23287225]\n",
      " [0.1550044  0.1585125  0.15528367 0.36080515 0.17039429]\n",
      " [0.15760967 0.16292778 0.15396062 0.16351968 0.36198226]\n",
      " [0.21643978 0.16290121 0.16247965 0.24652162 0.21165778]\n",
      " [0.17108274 0.17488496 0.30887    0.16032225 0.18484008]\n",
      " [0.14888105 0.14892349 0.14887583 0.14889632 0.4044233 ]\n",
      " [0.15603548 0.16307165 0.16936637 0.3471566  0.16436982]\n",
      " [0.15757833 0.15777226 0.15730062 0.31550574 0.21184301]\n",
      " [0.1824975  0.1592437  0.16382232 0.33515224 0.1592842 ]\n",
      " [0.16075222 0.36743128 0.15974005 0.15400544 0.15807112]\n",
      " [0.24460863 0.23391949 0.1844684  0.1617318  0.17527169]], shape=(13, 5), dtype=float32)\n"
     ]
    }
   ],
   "source": [
    "test_datagen = ImageDataGenerator(rescale=1./255)\n",
    "\n",
    "test_generator = test_datagen.flow_from_directory(\n",
    "        test_dir,\n",
    "        target_size=(150, 150),\n",
    "        class_mode='categorical',\n",
    "        batch_size=1)\n",
    "\n",
    "filenames = test_generator.filenames\n",
    "nb_samples = len(filenames)\n",
    "\n",
    "logits = model.predict(test_generator,steps=nb_samples)\n",
    "prediction = tf.nn.softmax(logits)\n",
    "print(prediction)"
   ]
  }
 ],
 "metadata": {
  "interpreter": {
   "hash": "2dc06daf51b090f8f304b0729324b6d618dfb51580b4f23e41d4448bbc21de62"
  },
  "kernelspec": {
   "display_name": "Python 3.10.2 ('ml_lab')",
   "language": "python",
   "name": "python3"
  },
  "language_info": {
   "codemirror_mode": {
    "name": "ipython",
    "version": 3
   },
   "file_extension": ".py",
   "mimetype": "text/x-python",
   "name": "python",
   "nbconvert_exporter": "python",
   "pygments_lexer": "ipython3",
   "version": "3.10.4"
  },
  "orig_nbformat": 4
 },
 "nbformat": 4,
 "nbformat_minor": 2
}
