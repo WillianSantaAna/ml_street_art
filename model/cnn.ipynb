{
 "cells": [
  {
   "cell_type": "code",
   "execution_count": 1,
   "metadata": {},
   "outputs": [],
   "source": [
    "import os\n",
    "import random\n",
    "import numpy as np\n",
    "import matplotlib.pyplot as plt\n",
    "import matplotlib.image as mpimg\n",
    "import tensorflow as tf\n",
    "from tensorflow.keras import layers\n",
    "from tensorflow.keras import Model\n",
    "from tensorflow.keras.optimizers import RMSprop, Adam\n",
    "from tensorflow.keras.preprocessing.image import ImageDataGenerator, array_to_img, img_to_array, load_img"
   ]
  },
  {
   "cell_type": "code",
   "execution_count": 2,
   "metadata": {},
   "outputs": [],
   "source": [
    "np.random.seed(1)\n",
    "tf.random.set_seed(2)\n",
    "# basic paths\n",
    "train_dir = \"./dataset_v6/train\"\n",
    "test_dir = \"./dataset_v6/test\"\n",
    "val_dir = \"./dataset_v6/validation\"\n",
    "\n",
    "class_names = os.listdir(train_dir)\n",
    "num_classes = len(class_names)\n",
    "\n",
    "def get_dir_filenames(base_dir, name):\n",
    "    dir = os.path.join(base_dir, name)\n",
    "\n",
    "    return {\"dir\": dir, \"file_names\": os.listdir(dir)}\n",
    "\n",
    "\n",
    "train = {name: get_dir_filenames(train_dir, name) for name in class_names}\n",
    "val = {name: get_dir_filenames(val_dir, name) for name in class_names}"
   ]
  },
  {
   "cell_type": "code",
   "execution_count": 3,
   "metadata": {},
   "outputs": [
    {
     "name": "stdout",
     "output_type": "stream",
     "text": [
      "Total training images: 69\n",
      "Total validation images: 12\n"
     ]
    }
   ],
   "source": [
    "train_len = sum(map(lambda x: len(x['file_names']), train.values()))\n",
    "val_len = sum(map(lambda x: len(x['file_names']), val.values()))\n",
    "\n",
    "print(f\"Total training images: {train_len}\")\n",
    "print(f\"Total validation images: {val_len}\")"
   ]
  },
  {
   "cell_type": "code",
   "execution_count": 4,
   "metadata": {},
   "outputs": [
    {
     "name": "stderr",
     "output_type": "stream",
     "text": [
      "2022-06-06 02:09:13.322394: E tensorflow/stream_executor/cuda/cuda_driver.cc:271] failed call to cuInit: CUDA_ERROR_NO_DEVICE: no CUDA-capable device is detected\n",
      "2022-06-06 02:09:13.322437: I tensorflow/stream_executor/cuda/cuda_diagnostics.cc:156] kernel driver does not appear to be running on this host (arch): /proc/driver/nvidia/version does not exist\n",
      "2022-06-06 02:09:13.328222: I tensorflow/core/platform/cpu_feature_guard.cc:151] This TensorFlow binary is optimized with oneAPI Deep Neural Network Library (oneDNN) to use the following CPU instructions in performance-critical operations:  AVX2 FMA\n",
      "To enable them in other operations, rebuild TensorFlow with the appropriate compiler flags.\n"
     ]
    },
    {
     "name": "stdout",
     "output_type": "stream",
     "text": [
      "Model: \"model\"\n",
      "_________________________________________________________________\n",
      " Layer (type)                Output Shape              Param #   \n",
      "=================================================================\n",
      " input_1 (InputLayer)        [(None, 150, 150, 3)]     0         \n",
      "                                                                 \n",
      " conv2d (Conv2D)             (None, 148, 148, 16)      448       \n",
      "                                                                 \n",
      " max_pooling2d (MaxPooling2D  (None, 74, 74, 16)       0         \n",
      " )                                                               \n",
      "                                                                 \n",
      " conv2d_1 (Conv2D)           (None, 72, 72, 32)        4640      \n",
      "                                                                 \n",
      " max_pooling2d_1 (MaxPooling  (None, 36, 36, 32)       0         \n",
      " 2D)                                                             \n",
      "                                                                 \n",
      " conv2d_2 (Conv2D)           (None, 34, 34, 64)        18496     \n",
      "                                                                 \n",
      " max_pooling2d_2 (MaxPooling  (None, 17, 17, 64)       0         \n",
      " 2D)                                                             \n",
      "                                                                 \n",
      " flatten (Flatten)           (None, 18496)             0         \n",
      "                                                                 \n",
      " dense (Dense)               (None, 1024)              18940928  \n",
      "                                                                 \n",
      " dense_1 (Dense)             (None, 4)                 4100      \n",
      "                                                                 \n",
      "=================================================================\n",
      "Total params: 18,968,612\n",
      "Trainable params: 18,968,612\n",
      "Non-trainable params: 0\n",
      "_________________________________________________________________\n"
     ]
    }
   ],
   "source": [
    "img_input = layers.Input(shape=(150, 150, 3))\n",
    "\n",
    "x = layers.Conv2D(16, 3, activation='relu')(img_input)\n",
    "x = layers.MaxPooling2D(2)(x)\n",
    "\n",
    "x = layers.Conv2D(32, 3, activation='relu')(x)\n",
    "x = layers.MaxPooling2D(2)(x)\n",
    "\n",
    "x = layers.Conv2D(64, 3, activation='relu')(x)\n",
    "x = layers.MaxPooling2D(2)(x)\n",
    "\n",
    "x = layers.Flatten()(x)\n",
    "\n",
    "x = layers.Dense(1024, activation='relu')(x)\n",
    "\n",
    "output = layers.Dense(num_classes, activation='softmax')(x)\n",
    "\n",
    "model = Model(img_input, output)\n",
    "\n",
    "model.summary()\n",
    "\n",
    "model.compile(loss='categorical_crossentropy',\n",
    "            optimizer=Adam(learning_rate=0.001),\n",
    "            metrics=['acc'])"
   ]
  },
  {
   "cell_type": "code",
   "execution_count": 5,
   "metadata": {},
   "outputs": [
    {
     "name": "stdout",
     "output_type": "stream",
     "text": [
      "Found 69 images belonging to 4 classes.\n",
      "Found 12 images belonging to 4 classes.\n"
     ]
    }
   ],
   "source": [
    "# All images will be rescaled by 1./255\n",
    "# train_datagen = ImageDataGenerator(\n",
    "#     rescale=1./255,\n",
    "#     rotation_range=45,\n",
    "#     zoom_range=0.2,\n",
    "#     horizontal_flip=True,\n",
    "# )\n",
    "train_datagen = ImageDataGenerator(rescale=1./255)\n",
    "val_datagen = ImageDataGenerator(rescale=1./255)\n",
    "\n",
    "# Flow training images in batches of 20 using train_datagen generator\n",
    "train_generator = train_datagen.flow_from_directory(\n",
    "        train_dir,  # This is the source directory for training images\n",
    "        target_size=(150, 150),  # All images will be resized to 150x150\n",
    "        batch_size=6,\n",
    "        class_mode='categorical',\n",
    "        subset='training')\n",
    "\n",
    "\n",
    "validation_generator = val_datagen.flow_from_directory(\n",
    "        val_dir,\n",
    "        target_size=(150, 150),\n",
    "        batch_size=1,\n",
    "        class_mode='categorical')"
   ]
  },
  {
   "cell_type": "code",
   "execution_count": 6,
   "metadata": {},
   "outputs": [
    {
     "name": "stdout",
     "output_type": "stream",
     "text": [
      "Epoch 1/20\n",
      "12/12 - 9s - loss: 2.7368 - acc: 0.2899 - val_loss: 1.3297 - val_acc: 0.4167 - 9s/epoch - 721ms/step\n",
      "Epoch 2/20\n",
      "12/12 - 9s - loss: 1.1908 - acc: 0.5362 - val_loss: 0.9340 - val_acc: 0.5833 - 9s/epoch - 786ms/step\n",
      "Epoch 3/20\n",
      "12/12 - 8s - loss: 0.8139 - acc: 0.6522 - val_loss: 1.2449 - val_acc: 0.5833 - 8s/epoch - 670ms/step\n",
      "Epoch 4/20\n",
      "12/12 - 10s - loss: 0.6094 - acc: 0.7971 - val_loss: 0.8081 - val_acc: 0.6667 - 10s/epoch - 794ms/step\n",
      "Epoch 5/20\n",
      "12/12 - 10s - loss: 0.2180 - acc: 0.9565 - val_loss: 1.2629 - val_acc: 0.5833 - 10s/epoch - 799ms/step\n",
      "Epoch 6/20\n",
      "12/12 - 9s - loss: 0.3025 - acc: 0.8696 - val_loss: 0.5941 - val_acc: 0.6667 - 9s/epoch - 721ms/step\n",
      "Epoch 7/20\n",
      "12/12 - 10s - loss: 0.1377 - acc: 0.9565 - val_loss: 0.6565 - val_acc: 0.7500 - 10s/epoch - 829ms/step\n",
      "Epoch 8/20\n",
      "12/12 - 10s - loss: 0.0550 - acc: 1.0000 - val_loss: 1.0025 - val_acc: 0.5833 - 10s/epoch - 837ms/step\n",
      "Epoch 9/20\n",
      "12/12 - 10s - loss: 0.0133 - acc: 1.0000 - val_loss: 0.7251 - val_acc: 0.7500 - 10s/epoch - 851ms/step\n",
      "Epoch 10/20\n",
      "12/12 - 10s - loss: 0.0020 - acc: 1.0000 - val_loss: 0.7695 - val_acc: 0.6667 - 10s/epoch - 861ms/step\n",
      "Epoch 11/20\n",
      "12/12 - 10s - loss: 5.7648e-04 - acc: 1.0000 - val_loss: 0.9484 - val_acc: 0.6667 - 10s/epoch - 829ms/step\n",
      "Epoch 12/20\n",
      "12/12 - 11s - loss: 1.9765e-04 - acc: 1.0000 - val_loss: 0.8436 - val_acc: 0.7500 - 11s/epoch - 882ms/step\n",
      "Epoch 13/20\n",
      "12/12 - 10s - loss: 1.2408e-04 - acc: 1.0000 - val_loss: 0.8860 - val_acc: 0.7500 - 10s/epoch - 868ms/step\n",
      "Epoch 14/20\n",
      "12/12 - 12s - loss: 9.8531e-05 - acc: 1.0000 - val_loss: 0.9267 - val_acc: 0.7500 - 12s/epoch - 975ms/step\n",
      "Epoch 15/20\n",
      "12/12 - 10s - loss: 6.9749e-05 - acc: 1.0000 - val_loss: 0.9134 - val_acc: 0.6667 - 10s/epoch - 842ms/step\n",
      "Epoch 16/20\n",
      "12/12 - 11s - loss: 5.6493e-05 - acc: 1.0000 - val_loss: 0.9638 - val_acc: 0.7500 - 11s/epoch - 917ms/step\n",
      "Epoch 17/20\n",
      "12/12 - 9s - loss: 4.4106e-05 - acc: 1.0000 - val_loss: 0.9389 - val_acc: 0.6667 - 9s/epoch - 727ms/step\n",
      "Epoch 18/20\n",
      "12/12 - 8s - loss: 3.5675e-05 - acc: 1.0000 - val_loss: 0.9235 - val_acc: 0.6667 - 8s/epoch - 671ms/step\n",
      "Epoch 19/20\n",
      "12/12 - 8s - loss: 3.0648e-05 - acc: 1.0000 - val_loss: 0.9451 - val_acc: 0.6667 - 8s/epoch - 700ms/step\n",
      "Epoch 20/20\n",
      "12/12 - 9s - loss: 2.6996e-05 - acc: 1.0000 - val_loss: 0.9295 - val_acc: 0.6667 - 9s/epoch - 787ms/step\n"
     ]
    }
   ],
   "source": [
    "history = model.fit(\n",
    "      train_generator,\n",
    "      epochs=20,\n",
    "      validation_data=validation_generator,\n",
    "      verbose=2)"
   ]
  },
  {
   "cell_type": "code",
   "execution_count": 7,
   "metadata": {},
   "outputs": [
    {
     "data": {
      "text/plain": [
       "Text(0.5, 1.0, 'Training and validation loss')"
      ]
     },
     "execution_count": 7,
     "metadata": {},
     "output_type": "execute_result"
    },
    {
     "data": {
      "image/png": "[encoded data removed]",
      "text/plain": [
       "<Figure size 432x288 with 1 Axes>"
      ]
     },
     "metadata": {
      "needs_background": "light"
     },
     "output_type": "display_data"
    },
    {
     "data": {
      "image/png": "[encoded data removed]",
      "text/plain": [
       "<Figure size 432x288 with 1 Axes>"
      ]
     },
     "metadata": {
      "needs_background": "light"
     },
     "output_type": "display_data"
    }
   ],
   "source": [
    "# Retrieve a list of accuracy results on training and validation data\n",
    "# sets for each training epoch\n",
    "acc = history.history['acc']\n",
    "val_acc = history.history['val_acc']\n",
    "\n",
    "# Retrieve a list of list results on training data\n",
    "# sets for each training epoch\n",
    "loss = history.history['loss']\n",
    "val_loss = history.history['val_loss']\n",
    "\n",
    "# Get number of epochs\n",
    "epochs = range(len(acc))\n",
    "\n",
    "# Plot training accuracy per epoch\n",
    "plt.plot(epochs, acc)\n",
    "plt.plot(epochs, val_acc)\n",
    "plt.title('Training and validation accuracy')\n",
    "\n",
    "plt.figure()\n",
    "\n",
    "# Plot training loss per epoch\n",
    "plt.plot(epochs, loss)\n",
    "plt.plot(epochs, val_loss)\n",
    "plt.title('Training and validation loss')"
   ]
  },
  {
   "cell_type": "code",
   "execution_count": 8,
   "metadata": {},
   "outputs": [],
   "source": [
    "# tf.keras.models.save_model(model, 'street_art_model.h5')"
   ]
  },
  {
   "cell_type": "code",
   "execution_count": 9,
   "metadata": {},
   "outputs": [
    {
     "name": "stdout",
     "output_type": "stream",
     "text": [
      "Found 11 images belonging to 4 classes.\n",
      "tf.Tensor(\n",
      "[[0.27787971 0.20667309 0.3235808  0.19186637]\n",
      " [0.17588648 0.17591043 0.46888325 0.17931981]\n",
      " [0.17922358 0.18294863 0.46070138 0.1771264 ]\n",
      " [0.43604562 0.18073332 0.19892299 0.18429804]\n",
      " [0.19431467 0.3164595  0.29991356 0.18931226]\n",
      " [0.17736219 0.4708361  0.17621456 0.17558713]\n",
      " [0.4709599  0.1769425  0.17652449 0.17557313]\n",
      " [0.17491211 0.4753166  0.17488566 0.17488566]\n",
      " [0.4677453  0.17605944 0.18013526 0.17605999]\n",
      " [0.1752546  0.47481576 0.17496493 0.17496468]\n",
      " [0.17519048 0.17529328 0.47351724 0.17599903]], shape=(11, 4), dtype=float32)\n"
     ]
    }
   ],
   "source": [
    "test_datagen = ImageDataGenerator(rescale=1./255)\n",
    "\n",
    "test_generator = test_datagen.flow_from_directory(\n",
    "        test_dir,\n",
    "        target_size=(150, 150),\n",
    "        class_mode='categorical',\n",
    "        batch_size=1)\n",
    "\n",
    "filenames = test_generator.filenames\n",
    "nb_samples = len(filenames)\n",
    "\n",
    "logits = model.predict(test_generator,steps=nb_samples)\n",
    "prediction = tf.nn.softmax(logits)\n",
    "print(prediction)"
   ]
  }
 ],
 "metadata": {
  "interpreter": {
   "hash": "2dc06daf51b090f8f304b0729324b6d618dfb51580b4f23e41d4448bbc21de62"
  },
  "kernelspec": {
   "display_name": "Python 3.10.2 ('ml_lab')",
   "language": "python",
   "name": "python3"
  },
  "language_info": {
   "codemirror_mode": {
    "name": "ipython",
    "version": 3
   },
   "file_extension": ".py",
   "mimetype": "text/x-python",
   "name": "python",
   "nbconvert_exporter": "python",
   "pygments_lexer": "ipython3",
   "version": "3.10.4"
  },
  "orig_nbformat": 4
 },
 "nbformat": 4,
 "nbformat_minor": 2
}
