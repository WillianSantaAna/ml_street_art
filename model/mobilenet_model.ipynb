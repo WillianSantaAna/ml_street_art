{
  "nbformat": 4,
  "nbformat_minor": 0,
  "metadata": {
    "colab": {
      "name": "mobilenet_model",
      "provenance": [],
      "collapsed_sections": []
    },
    "kernelspec": {
      "name": "python3",
      "display_name": "Python 3"
    },
    "language_info": {
      "name": "python"
    }
  },
  "cells": [
    {
      "cell_type": "code",
      "execution_count": null,
      "metadata": {
        "id": "4oUrLFZGKlh3"
      },
      "outputs": [],
      "source": [
        "import os\n",
        "import random\n",
        "import numpy as np\n",
        "import matplotlib.pyplot as plt\n",
        "import matplotlib.image as mpimg\n",
        "import tensorflow as tf\n",
        "from tensorflow.keras import layers\n",
        "from tensorflow.keras import Model\n",
        "from tensorflow.keras.optimizers import RMSprop, Adam\n",
        "from tensorflow.keras.preprocessing.image import ImageDataGenerator, array_to_img, img_to_array, load_img\n",
        "# import the models for further classification experiments\n",
        "from tensorflow.keras.applications import (\n",
        "        vgg16,\n",
        "        resnet50,\n",
        "        mobilenet,\n",
        "        inception_v3\n",
        "    )\n"
      ]
    },
    {
      "cell_type": "code",
      "source": [
        "from google.colab import drive\n",
        "drive.mount('/content/drive')"
      ],
      "metadata": {
        "colab": {
          "base_uri": "https://localhost:8080/"
        },
        "id": "9gQZutyiPX7Y",
        "outputId": "325271a2-a143-4fb6-f5ca-251cd87f8dbe"
      },
      "execution_count": null,
      "outputs": [
        {
          "output_type": "stream",
          "name": "stdout",
          "text": [
            "Drive already mounted at /content/drive; to attempt to forcibly remount, call drive.mount(\"/content/drive\", force_remount=True).\n"
          ]
        }
      ]
    },
    {
      "cell_type": "code",
      "source": [
        "np.random.seed(1)\n",
        "tf.random.set_seed(2)\n",
        "# basic paths\n",
        "train_dir = \"/content/drive/MyDrive/Computer Science/6th semester/Projec Factory/model/dataset_v3/train\"\n",
        "test_dir = \"/content/drive/MyDrive/Computer Science/6th semester/Projec Factory/model/dataset_v3/test\"\n",
        "val_dir = \"/content/drive/MyDrive/Computer Science/6th semester/Projec Factory/model/dataset_v3/validation\"\n",
        "\n",
        "class_names = os.listdir(train_dir)\n",
        "num_classes = len(class_names)\n",
        "\n",
        "def get_dir_filenames(base_dir, name):\n",
        "    dir = os.path.join(base_dir, name)\n",
        "\n",
        "    return {\"dir\": dir, \"file_names\": os.listdir(dir)}\n",
        "\n",
        "\n",
        "train = {name: get_dir_filenames(train_dir, name) for name in class_names}\n",
        "val = {name: get_dir_filenames(val_dir, name) for name in class_names}"
      ],
      "metadata": {
        "id": "xAwngacNPbC4"
      },
      "execution_count": null,
      "outputs": []
    },
    {
      "cell_type": "code",
      "source": [
        "train_len = sum(map(lambda x: len(x['file_names']), train.values()))\n",
        "val_len = sum(map(lambda x: len(x['file_names']), val.values()))\n",
        "\n",
        "print(f\"Total training images: {train_len}\")\n",
        "print(f\"Total validation images: {val_len}\")"
      ],
      "metadata": {
        "colab": {
          "base_uri": "https://localhost:8080/"
        },
        "id": "sYW4xmGSPdUv",
        "outputId": "1f0ab4ca-2393-4b95-dad9-a5a8084c7717"
      },
      "execution_count": null,
      "outputs": [
        {
          "output_type": "stream",
          "name": "stdout",
          "text": [
            "Total training images: 168\n",
            "Total validation images: 30\n"
          ]
        }
      ]
    },
    {
      "cell_type": "code",
      "source": [
        "# init the models\n",
        "# vgg_model = vgg16.VGG16(weights='imagenet')\n",
        "# inception_model = inception_v3.InceptionV3(weights='imagenet')\n",
        "# resnet_model = resnet50.ResNet50(weights='imagenet')\n",
        "# mobilenet_model = mobilenet.MobileNet(weights='imagenet')"
      ],
      "metadata": {
        "id": "BCJiZLcWNfCr"
      },
      "execution_count": null,
      "outputs": []
    },
    {
      "cell_type": "code",
      "source": [
        "# img_input = layers.Input(shape=(150, 150, 3))\n",
        "\n",
        "# define a new model with random weights and 10 classes\n",
        "# new_input = Input(shape=(640, 480, 3))\n",
        "# model = VGG16(weights=None, input_tensor=new_input, classes=10)\n",
        "\n",
        "model = mobilenet.MobileNet(include_top=False, input_shape=(300, 300, 3), weights='imagenet')\n",
        "# add new classifier layers\n",
        "x = layers.Flatten()(model.layers[-1].output)\n",
        "x = layers.Dense(1024, activation='relu')(x)\n",
        "output = layers.Dense(num_classes, activation='softmax')(x)\n",
        "# define new model\n",
        "model = Model(inputs=model.inputs, outputs=output)"
      ],
      "metadata": {
        "id": "PCaI1uDQO0Sa",
        "colab": {
          "base_uri": "https://localhost:8080/"
        },
        "outputId": "1cdab41f-e0b2-4468-9091-8baf465b9077"
      },
      "execution_count": null,
      "outputs": [
        {
          "output_type": "stream",
          "name": "stdout",
          "text": [
            "WARNING:tensorflow:`input_shape` is undefined or non-square, or `rows` is not in [128, 160, 192, 224]. Weights for input shape (224, 224) will be loaded as the default.\n"
          ]
        }
      ]
    },
    {
      "cell_type": "code",
      "source": [
        "model.compile(loss='categorical_crossentropy',\n",
        "    optimizer=Adam(learning_rate=0.001),\n",
        "    metrics=['acc'])"
      ],
      "metadata": {
        "id": "wVCLbcXaWiwB"
      },
      "execution_count": null,
      "outputs": []
    },
    {
      "cell_type": "code",
      "source": [
        "# All images will be rescaled by 1./255\n",
        "train_datagen = ImageDataGenerator(\n",
        "    rescale=1./255,\n",
        "    rotation_range=40,\n",
        "    width_shift_range=0.2,\n",
        "    height_shift_range=0.2,\n",
        "    shear_range=0.2,\n",
        "    zoom_range=0.2,\n",
        "    horizontal_flip=True,\n",
        ")\n",
        "# train_datagen = ImageDataGenerator(rescale=1./255)\n",
        "val_datagen = ImageDataGenerator(rescale=1./255)\n",
        "\n",
        "# Flow training images in batches of 20 using train_datagen generator\n",
        "train_generator = train_datagen.flow_from_directory(\n",
        "        train_dir,  # This is the source directory for training images\n",
        "        target_size=(300, 300),  # All images will be resized to 150x150\n",
        "        batch_size=2,\n",
        "        class_mode='categorical',\n",
        "        subset='training')\n",
        "\n",
        "\n",
        "validation_generator = val_datagen.flow_from_directory(\n",
        "        val_dir,\n",
        "        target_size=(300, 300),\n",
        "        batch_size=1,\n",
        "        class_mode='categorical')"
      ],
      "metadata": {
        "colab": {
          "base_uri": "https://localhost:8080/"
        },
        "id": "t1eUs6PsQnGC",
        "outputId": "1c183005-56fd-411d-b84b-5944709a5641"
      },
      "execution_count": null,
      "outputs": [
        {
          "output_type": "stream",
          "name": "stdout",
          "text": [
            "Found 168 images belonging to 12 classes.\n",
            "Found 30 images belonging to 12 classes.\n"
          ]
        }
      ]
    },
    {
      "cell_type": "code",
      "source": [
        "# fit model on the augmented dataset\n",
        "history = model.fit_generator(train_generator, epochs=20, steps_per_epoch=31, validation_data=validation_generator)"
      ],
      "metadata": {
        "colab": {
          "base_uri": "https://localhost:8080/"
        },
        "id": "yFb5O2NjQpRs",
        "outputId": "56af03cd-6fba-46d7-ea74-413974a70bcb"
      },
      "execution_count": null,
      "outputs": [
        {
          "output_type": "stream",
          "name": "stderr",
          "text": [
            "/usr/local/lib/python3.7/dist-packages/ipykernel_launcher.py:2: UserWarning: `Model.fit_generator` is deprecated and will be removed in a future version. Please use `Model.fit`, which supports generators.\n",
            "  \n"
          ]
        },
        {
          "output_type": "stream",
          "name": "stdout",
          "text": [
            "Epoch 1/20\n",
            "31/31 [==============================] - 81s 2s/step - loss: 85.1768 - acc: 0.1452 - val_loss: 224.7380 - val_acc: 0.1667\n",
            "Epoch 2/20\n",
            "31/31 [==============================] - 72s 2s/step - loss: 8.8078 - acc: 0.0968 - val_loss: 138.9832 - val_acc: 0.1333\n",
            "Epoch 3/20\n",
            "31/31 [==============================] - 72s 2s/step - loss: 2.8274 - acc: 0.1613 - val_loss: 71.0762 - val_acc: 0.1333\n",
            "Epoch 4/20\n",
            "31/31 [==============================] - 73s 2s/step - loss: 2.5501 - acc: 0.1774 - val_loss: 25.1802 - val_acc: 0.1667\n",
            "Epoch 5/20\n",
            "31/31 [==============================] - 72s 2s/step - loss: 2.4975 - acc: 0.0645 - val_loss: 10.0019 - val_acc: 0.1667\n",
            "Epoch 6/20\n",
            "31/31 [==============================] - 71s 2s/step - loss: 2.6483 - acc: 0.1129 - val_loss: 4.1096 - val_acc: 0.1667\n",
            "Epoch 7/20\n",
            "31/31 [==============================] - 72s 2s/step - loss: 2.5447 - acc: 0.0645 - val_loss: 2.8272 - val_acc: 0.2000\n",
            "Epoch 8/20\n",
            "31/31 [==============================] - 72s 2s/step - loss: 2.3632 - acc: 0.2097 - val_loss: 2.5742 - val_acc: 0.3000\n",
            "Epoch 9/20\n",
            "31/31 [==============================] - 72s 2s/step - loss: 2.4524 - acc: 0.2097 - val_loss: 2.4674 - val_acc: 0.2667\n",
            "Epoch 10/20\n",
            "31/31 [==============================] - 73s 2s/step - loss: 2.4556 - acc: 0.1129 - val_loss: 2.9278 - val_acc: 0.2333\n",
            "Epoch 11/20\n",
            "31/31 [==============================] - 71s 2s/step - loss: 2.4158 - acc: 0.1452 - val_loss: 2.4556 - val_acc: 0.2333\n",
            "Epoch 12/20\n",
            "31/31 [==============================] - 72s 2s/step - loss: 2.5133 - acc: 0.1613 - val_loss: 2.4861 - val_acc: 0.2667\n",
            "Epoch 13/20\n",
            "31/31 [==============================] - 72s 2s/step - loss: 2.2905 - acc: 0.0968 - val_loss: 2.5345 - val_acc: 0.2000\n",
            "Epoch 14/20\n",
            "31/31 [==============================] - 72s 2s/step - loss: 2.5230 - acc: 0.0806 - val_loss: 2.5705 - val_acc: 0.1667\n",
            "Epoch 15/20\n",
            "31/31 [==============================] - 72s 2s/step - loss: 2.3263 - acc: 0.1613 - val_loss: 2.4468 - val_acc: 0.1667\n",
            "Epoch 16/20\n",
            "31/31 [==============================] - 71s 2s/step - loss: 2.5381 - acc: 0.1290 - val_loss: 2.6463 - val_acc: 0.1333\n",
            "Epoch 17/20\n",
            "31/31 [==============================] - 72s 2s/step - loss: 2.4232 - acc: 0.1935 - val_loss: 3.1882 - val_acc: 0.2667\n",
            "Epoch 18/20\n",
            "31/31 [==============================] - 71s 2s/step - loss: 2.4392 - acc: 0.1613 - val_loss: 3.5547 - val_acc: 0.1333\n",
            "Epoch 19/20\n",
            "31/31 [==============================] - 73s 2s/step - loss: 2.5558 - acc: 0.2097 - val_loss: 2.7591 - val_acc: 0.1333\n",
            "Epoch 20/20\n",
            "31/31 [==============================] - 71s 2s/step - loss: 2.4065 - acc: 0.1935 - val_loss: 2.8073 - val_acc: 0.1667\n"
          ]
        }
      ]
    },
    {
      "cell_type": "code",
      "source": [
        "# Retrieve a list of accuracy results on training and validation data\n",
        "# sets for each training epoch\n",
        "acc = history.history['acc']\n",
        "val_acc = history.history['val_acc']\n",
        "\n",
        "# Retrieve a list of list results on training data\n",
        "# sets for each training epoch\n",
        "loss = history.history['loss']\n",
        "val_loss = history.history['val_loss']\n",
        "\n",
        "# Get number of epochs\n",
        "epochs = range(len(acc))\n",
        "\n",
        "# Plot training accuracy per epoch\n",
        "plt.plot(epochs, acc)\n",
        "plt.plot(epochs, val_acc)\n",
        "plt.title('Training and validation accuracy')\n",
        "\n",
        "plt.figure()\n",
        "\n",
        "# Plot training loss per epoch\n",
        "plt.plot(epochs, loss)\n",
        "plt.plot(epochs, val_loss)\n",
        "plt.title('Training and validation loss')"
      ],
      "metadata": {
        "id": "xVNJF-IaQsBV",
        "colab": {
          "base_uri": "https://localhost:8080/",
          "height": 563
        },
        "outputId": "d31fffca-a62c-46f8-f00a-6714fdc5de76"
      },
      "execution_count": null,
      "outputs": [
        {
          "output_type": "execute_result",
          "data": {
            "text/plain": [
              "Text(0.5, 1.0, 'Training and validation loss')"
            ]
          },
          "metadata": {},
          "execution_count": 10
        },
        {
          "output_type": "display_data",
          "data": {
            "text/plain": [
              "<Figure size 432x288 with 1 Axes>"
            ],
            "image/png": "[encoded data removed]"
          },
          "metadata": {
            "needs_background": "light"
          }
        },
        {
          "output_type": "display_data",
          "data": {
            "text/plain": [
              "<Figure size 432x288 with 1 Axes>"
            ],
            "image/png": "[encoded data removed]"
          },
          "metadata": {
            "needs_background": "light"
          }
        }
      ]
    }
  ]
}