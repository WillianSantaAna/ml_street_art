{
  "nbformat": 4,
  "nbformat_minor": 0,
  "metadata": {
    "colab": {
      "name": "vgg16",
      "provenance": [],
      "collapsed_sections": []
    },
    "kernelspec": {
      "name": "python3",
      "display_name": "Python 3"
    },
    "language_info": {
      "name": "python"
    }
  },
  "cells": [
    {
      "cell_type": "code",
      "execution_count": null,
      "metadata": {
        "id": "4oUrLFZGKlh3"
      },
      "outputs": [],
      "source": [
        "import os\n",
        "import random\n",
        "import numpy as np\n",
        "import matplotlib.pyplot as plt\n",
        "import matplotlib.image as mpimg\n",
        "import tensorflow as tf\n",
        "from tensorflow.keras import layers\n",
        "from tensorflow.keras import Model\n",
        "from tensorflow.keras.optimizers import RMSprop, Adam\n",
        "from tensorflow.keras.preprocessing.image import ImageDataGenerator, array_to_img, img_to_array, load_img\n",
        "# import the models for further classification experiments\n",
        "from tensorflow.keras.applications import (\n",
        "        vgg16,\n",
        "        resnet50,\n",
        "        mobilenet,\n",
        "        inception_v3\n",
        "    )\n"
      ]
    },
    {
      "cell_type": "code",
      "source": [
        "from google.colab import drive\n",
        "drive.mount('/content/drive')"
      ],
      "metadata": {
        "colab": {
          "base_uri": "https://localhost:8080/"
        },
        "id": "9gQZutyiPX7Y",
        "outputId": "544b3591-f969-4241-a451-4b354e617a40"
      },
      "execution_count": null,
      "outputs": [
        {
          "output_type": "stream",
          "name": "stdout",
          "text": [
            "Drive already mounted at /content/drive; to attempt to forcibly remount, call drive.mount(\"/content/drive\", force_remount=True).\n"
          ]
        }
      ]
    },
    {
      "cell_type": "code",
      "source": [
        "np.random.seed(1)\n",
        "tf.random.set_seed(2)\n",
        "# basic paths\n",
        "train_dir = \"/content/drive/MyDrive/Computer Science/6th semester/Projec Factory/model/dataset_v3/train\"\n",
        "test_dir = \"/content/drive/MyDrive/Computer Science/6th semester/Projec Factory/model/dataset_v3/test\"\n",
        "val_dir = \"/content/drive/MyDrive/Computer Science/6th semester/Projec Factory/model/dataset_v3/validation\"\n",
        "\n",
        "class_names = os.listdir(train_dir)\n",
        "num_classes = len(class_names)\n",
        "\n",
        "def get_dir_filenames(base_dir, name):\n",
        "    dir = os.path.join(base_dir, name)\n",
        "\n",
        "    return {\"dir\": dir, \"file_names\": os.listdir(dir)}\n",
        "\n",
        "\n",
        "train = {name: get_dir_filenames(train_dir, name) for name in class_names}\n",
        "val = {name: get_dir_filenames(val_dir, name) for name in class_names}"
      ],
      "metadata": {
        "id": "xAwngacNPbC4"
      },
      "execution_count": null,
      "outputs": []
    },
    {
      "cell_type": "code",
      "source": [
        "train_len = sum(map(lambda x: len(x['file_names']), train.values()))\n",
        "val_len = sum(map(lambda x: len(x['file_names']), val.values()))\n",
        "\n",
        "print(f\"Total training images: {train_len}\")\n",
        "print(f\"Total validation images: {val_len}\")"
      ],
      "metadata": {
        "colab": {
          "base_uri": "https://localhost:8080/"
        },
        "id": "sYW4xmGSPdUv",
        "outputId": "eafbcdf5-e512-4e48-94d8-ec76bb04ea46"
      },
      "execution_count": null,
      "outputs": [
        {
          "output_type": "stream",
          "name": "stdout",
          "text": [
            "Total training images: 186\n",
            "Total validation images: 29\n"
          ]
        }
      ]
    },
    {
      "cell_type": "code",
      "source": [
        "# init the models\n",
        "# vgg_model = vgg16.VGG16(weights='imagenet')\n",
        "# inception_model = inception_v3.InceptionV3(weights='imagenet')\n",
        "# resnet_model = resnet50.ResNet50(weights='imagenet')\n",
        "# mobilenet_model = mobilenet.MobileNet(weights='imagenet')"
      ],
      "metadata": {
        "id": "BCJiZLcWNfCr"
      },
      "execution_count": null,
      "outputs": []
    },
    {
      "cell_type": "code",
      "source": [
        "# img_input = layers.Input(shape=(150, 150, 3))\n",
        "\n",
        "# define a new model with random weights and 10 classes\n",
        "# new_input = Input(shape=(640, 480, 3))\n",
        "# model = VGG16(weights=None, input_tensor=new_input, classes=10)\n",
        "\n",
        "model = vgg16.VGG16(include_top=False, input_shape=(150, 150, 3), weights='imagenet')\n",
        "# add new classifier layers\n",
        "x = layers.Flatten()(model.layers[-1].output)\n",
        "x = layers.Dense(512, activation='relu')(x)\n",
        "output = layers.Dense(num_classes, activation='softmax')(x)\n",
        "# define new model\n",
        "model = Model(inputs=model.inputs, outputs=output)"
      ],
      "metadata": {
        "id": "PCaI1uDQO0Sa"
      },
      "execution_count": null,
      "outputs": []
    },
    {
      "cell_type": "code",
      "source": [
        "model.compile(loss='categorical_crossentropy',\n",
        "    optimizer=RMSprop(learning_rate=0.001),\n",
        "    metrics=['acc'])"
      ],
      "metadata": {
        "id": "Z8Kr_u4jR4md"
      },
      "execution_count": null,
      "outputs": []
    },
    {
      "cell_type": "code",
      "source": [
        "# All images will be rescaled by 1./255\n",
        "train_datagen = ImageDataGenerator(\n",
        "    rescale=1./255,\n",
        "    rotation_range=40,\n",
        "    width_shift_range=0.2,\n",
        "    height_shift_range=0.2,\n",
        "    shear_range=0.2,\n",
        "    zoom_range=0.2,\n",
        "    horizontal_flip=True,\n",
        ")\n",
        "# train_datagen = ImageDataGenerator(rescale=1./255)\n",
        "val_datagen = ImageDataGenerator(rescale=1./255)\n",
        "\n",
        "# Flow training images in batches of 20 using train_datagen generator\n",
        "train_generator = train_datagen.flow_from_directory(\n",
        "        train_dir,  # This is the source directory for training images\n",
        "        target_size=(150, 150),  # All images will be resized to 150x150\n",
        "        batch_size=6,\n",
        "        class_mode='categorical',\n",
        "        subset='training')\n",
        "\n",
        "\n",
        "validation_generator = val_datagen.flow_from_directory(\n",
        "        val_dir,\n",
        "        target_size=(150, 150),\n",
        "        batch_size=2,\n",
        "        class_mode='categorical')"
      ],
      "metadata": {
        "colab": {
          "base_uri": "https://localhost:8080/"
        },
        "id": "t1eUs6PsQnGC",
        "outputId": "0b616df9-bb44-4def-83dd-96dceca38306"
      },
      "execution_count": null,
      "outputs": [
        {
          "output_type": "stream",
          "name": "stdout",
          "text": [
            "Found 186 images belonging to 12 classes.\n",
            "Found 29 images belonging to 12 classes.\n"
          ]
        }
      ]
    },
    {
      "cell_type": "code",
      "source": [
        "# fit model on the augmented dataset\n",
        "model.fit_generator(train_generator, steps_per_epoch=313, validation_data=validation_generator)\n",
        "history = model.fit(\n",
        "      train_generator,\n",
        "      epochs=20,\n",
        "      validation_data=validation_generator)"
      ],
      "metadata": {
        "colab": {
          "base_uri": "https://localhost:8080/"
        },
        "id": "yFb5O2NjQpRs",
        "outputId": "3919ed2b-cc94-4b1e-9b0e-83c8a6eabf29"
      },
      "execution_count": null,
      "outputs": [
        {
          "output_type": "stream",
          "name": "stdout",
          "text": [
            "Epoch 1/20\n",
            "31/31 [==============================] - 209s 6s/step - loss: 997.6674 - acc: 0.1022 - val_loss: 2.4635 - val_acc: 0.1379\n",
            "Epoch 2/20\n",
            "31/31 [==============================] - 175s 6s/step - loss: 2.4417 - acc: 0.2097 - val_loss: 2.4736 - val_acc: 0.1379\n",
            "Epoch 3/20\n",
            "31/31 [==============================] - 176s 6s/step - loss: 2.4661 - acc: 0.2204 - val_loss: 2.4708 - val_acc: 0.1379\n",
            "Epoch 4/20\n",
            "31/31 [==============================] - 173s 6s/step - loss: 2.4342 - acc: 0.2366 - val_loss: 2.4630 - val_acc: 0.1379\n",
            "Epoch 5/20\n",
            "31/31 [==============================] - 173s 6s/step - loss: 2.4053 - acc: 0.2366 - val_loss: 2.4596 - val_acc: 0.1379\n",
            "Epoch 6/20\n",
            "31/31 [==============================] - 171s 6s/step - loss: 2.3806 - acc: 0.2366 - val_loss: 2.4628 - val_acc: 0.1379\n",
            "Epoch 7/20\n",
            "31/31 [==============================] - 170s 5s/step - loss: 2.3619 - acc: 0.2366 - val_loss: 2.4727 - val_acc: 0.1379\n",
            "Epoch 8/20\n",
            "31/31 [==============================] - 171s 6s/step - loss: 2.3516 - acc: 0.2366 - val_loss: 2.4830 - val_acc: 0.1379\n",
            "Epoch 9/20\n",
            "31/31 [==============================] - 170s 5s/step - loss: 2.3463 - acc: 0.2366 - val_loss: 2.4945 - val_acc: 0.1379\n",
            "Epoch 10/20\n",
            "31/31 [==============================] - 172s 6s/step - loss: 2.3472 - acc: 0.2366 - val_loss: 2.4989 - val_acc: 0.1379\n",
            "Epoch 11/20\n",
            "31/31 [==============================] - 172s 6s/step - loss: 2.3459 - acc: 0.2366 - val_loss: 2.5027 - val_acc: 0.1379\n",
            "Epoch 12/20\n",
            "31/31 [==============================] - 171s 6s/step - loss: 2.3453 - acc: 0.2366 - val_loss: 2.5041 - val_acc: 0.1379\n",
            "Epoch 13/20\n",
            "31/31 [==============================] - 172s 6s/step - loss: 2.3460 - acc: 0.2366 - val_loss: 2.5046 - val_acc: 0.1379\n",
            "Epoch 14/20\n",
            "31/31 [==============================] - 172s 6s/step - loss: 2.3452 - acc: 0.2366 - val_loss: 2.5026 - val_acc: 0.1379\n",
            "Epoch 15/20\n",
            "31/31 [==============================] - 171s 6s/step - loss: 2.3456 - acc: 0.2366 - val_loss: 2.5025 - val_acc: 0.1379\n",
            "Epoch 16/20\n",
            "31/31 [==============================] - 172s 6s/step - loss: 2.3462 - acc: 0.2366 - val_loss: 2.5059 - val_acc: 0.1379\n",
            "Epoch 17/20\n",
            "31/31 [==============================] - 172s 6s/step - loss: 2.3457 - acc: 0.2366 - val_loss: 2.5071 - val_acc: 0.1379\n",
            "Epoch 18/20\n",
            "31/31 [==============================] - 172s 6s/step - loss: 2.3458 - acc: 0.2366 - val_loss: 2.5040 - val_acc: 0.1379\n",
            "Epoch 19/20\n",
            "31/31 [==============================] - 176s 6s/step - loss: 2.3447 - acc: 0.2366 - val_loss: 2.5062 - val_acc: 0.1379\n",
            "Epoch 20/20\n",
            "31/31 [==============================] - 173s 6s/step - loss: 2.3459 - acc: 0.2366 - val_loss: 2.5028 - val_acc: 0.1379\n"
          ]
        }
      ]
    },
    {
      "cell_type": "code",
      "source": [
        "# Retrieve a list of accuracy results on training and validation data\n",
        "# sets for each training epoch\n",
        "acc = history.history['acc']\n",
        "val_acc = history.history['val_acc']\n",
        "\n",
        "# Retrieve a list of list results on training data\n",
        "# sets for each training epoch\n",
        "loss = history.history['loss']\n",
        "val_loss = history.history['val_loss']\n",
        "\n",
        "# Get number of epochs\n",
        "epochs = range(len(acc))\n",
        "\n",
        "# Plot training accuracy per epoch\n",
        "plt.plot(epochs, acc)\n",
        "plt.plot(epochs, val_acc)\n",
        "plt.title('Training and validation accuracy')\n",
        "\n",
        "plt.figure()\n",
        "\n",
        "# Plot training loss per epoch\n",
        "plt.plot(epochs, loss)\n",
        "plt.plot(epochs, val_loss)\n",
        "plt.title('Training and validation loss')"
      ],
      "metadata": {
        "colab": {
          "base_uri": "https://localhost:8080/",
          "height": 563
        },
        "id": "xVNJF-IaQsBV",
        "outputId": "7fc64d08-6c85-478a-ab92-ff95fdfc3ed7"
      },
      "execution_count": null,
      "outputs": [
        {
          "output_type": "execute_result",
          "data": {
            "text/plain": [
              "Text(0.5, 1.0, 'Training and validation loss')"
            ]
          },
          "metadata": {},
          "execution_count": 10
        },
        {
          "output_type": "display_data",
          "data": {
            "text/plain": [
              "<Figure size 432x288 with 1 Axes>"
            ],
            "image/png": "[encoded data removed]"
          },
          "metadata": {
            "needs_background": "light"
          }
        },
        {
          "output_type": "display_data",
          "data": {
            "text/plain": [
              "<Figure size 432x288 with 1 Axes>"
            ],
            "image/png": "[encoded data removed]"
          },
          "metadata": {
            "needs_background": "light"
          }
        }
      ]
    }
  ]
}